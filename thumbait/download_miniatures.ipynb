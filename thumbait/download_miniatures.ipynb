{
 "cells": [
  {
   "cell_type": "code",
   "execution_count": 15,
   "metadata": {},
   "outputs": [],
   "source": [
    "import requests\n",
    "import shutil\n",
    "import os\n",
    "import re\n",
    "from tqdm import tqdm"
   ]
  },
  {
   "cell_type": "code",
   "execution_count": 17,
   "metadata": {},
   "outputs": [],
   "source": [
    "files = list(filter(lambda x: re.search(r\".json\", x), os.listdir(\"data/downloaded_videos\")))\n",
    "files = [file_name.replace(\".json\", \"\") for file_name in files]"
   ]
  },
  {
   "cell_type": "code",
   "execution_count": 20,
   "metadata": {},
   "outputs": [
    {
     "name": "stderr",
     "output_type": "stream",
     "text": [
      "100%|████████████████████████████████████████████████████████████████████████████████████████| 23382/23382 [1:00:41<00:00,  6.42it/s]\n"
     ]
    }
   ],
   "source": [
    "for file_name in tqdm(files):\n",
    "    url = f'https://img.youtube.com/vi/{file_name}/hqdefault.jpg'\n",
    "    response = requests.get(url, stream=True)\n",
    "    with open(f'data/images/{file_name}.jpg', 'wb') as out_file:\n",
    "        shutil.copyfileobj(response.raw, out_file)\n",
    "    del response"
   ]
  }
 ],
 "metadata": {
  "kernelspec": {
   "display_name": "Python 3",
   "language": "python",
   "name": "python3"
  },
  "language_info": {
   "codemirror_mode": {
    "name": "ipython",
    "version": 3
   },
   "file_extension": ".py",
   "mimetype": "text/x-python",
   "name": "python",
   "nbconvert_exporter": "python",
   "pygments_lexer": "ipython3",
   "version": "3.8.5"
  }
 },
 "nbformat": 4,
 "nbformat_minor": 4
}
